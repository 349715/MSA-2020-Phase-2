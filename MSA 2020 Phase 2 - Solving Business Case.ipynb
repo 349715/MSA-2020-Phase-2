{
 "cells": [
  {
   "cell_type": "markdown",
   "metadata": {},
   "source": [
    "# Reddit API Call for Huawei"
   ]
  },
  {
   "cell_type": "code",
   "execution_count": null,
   "metadata": {},
   "outputs": [],
   "source": [
    "from api_funcs import *"
   ]
  },
  {
   "cell_type": "code",
   "execution_count": null,
   "metadata": {},
   "outputs": [],
   "source": [
    "posts = subreddit_posts('Huawei', 1000)"
   ]
  },
  {
   "cell_type": "code",
   "execution_count": null,
   "metadata": {},
   "outputs": [],
   "source": [
    "posts"
   ]
  },
  {
   "cell_type": "code",
   "execution_count": null,
   "metadata": {},
   "outputs": [],
   "source": [
    "posts.to_csv('Posts.csv',index=False)"
   ]
  },
  {
   "cell_type": "code",
   "execution_count": null,
   "metadata": {},
   "outputs": [],
   "source": [
    "replies = replies_to_posts(posts)"
   ]
  },
  {
   "cell_type": "code",
   "execution_count": null,
   "metadata": {},
   "outputs": [],
   "source": [
    "replies"
   ]
  },
  {
   "cell_type": "code",
   "execution_count": null,
   "metadata": {},
   "outputs": [],
   "source": [
    "replies.to_csv('Replies.csv',index=False)"
   ]
  },
  {
   "cell_type": "markdown",
   "metadata": {},
   "source": [
    "# Data Cleaning and Exploration"
   ]
  },
  {
   "cell_type": "code",
   "execution_count": 1,
   "metadata": {
    "tags": []
   },
   "outputs": [],
   "source": [
    "import re\n",
    "\n",
    "import pandas as pd\n",
    "import nltk"
   ]
  },
  {
   "cell_type": "code",
   "execution_count": 2,
   "metadata": {},
   "outputs": [],
   "source": [
    "replies = pd.read_csv('Replies.csv')"
   ]
  },
  {
   "cell_type": "markdown",
   "metadata": {},
   "source": [
    "### Remove links, \\n, \\t...., empty strings"
   ]
  },
  {
   "cell_type": "code",
   "execution_count": 3,
   "metadata": {},
   "outputs": [
    {
     "data": {
      "text/plain": [
       "'I got Google mobile services to work on my P40 Pro using this tutorial - https://youtu.be/8sfJVGqM_5Q'"
      ]
     },
     "execution_count": 3,
     "metadata": {},
     "output_type": "execute_result"
    }
   ],
   "source": [
    "sample = replies['Reply'][7]\n",
    "sample"
   ]
  },
  {
   "cell_type": "code",
   "execution_count": 4,
   "metadata": {},
   "outputs": [
    {
     "data": {
      "text/plain": [
       "'Google Drive - pCloud\\nGmail - move to ProtonMail or Tutanota,\\nGoogle Maps - OsmAnd'"
      ]
     },
     "execution_count": 4,
     "metadata": {},
     "output_type": "execute_result"
    }
   ],
   "source": [
    "sample2 = replies['Reply'][5]\n",
    "sample2"
   ]
  },
  {
   "cell_type": "code",
   "execution_count": 5,
   "metadata": {},
   "outputs": [],
   "source": [
    "replies.Reply = replies.Reply.apply(lambda x: re.sub(r'\\(?http\\S+', '', x))\n",
    "replies.Reply = replies.Reply.apply(lambda x: ' '.join(nltk.word_tokenize(x)))"
   ]
  },
  {
   "cell_type": "code",
   "execution_count": 6,
   "metadata": {},
   "outputs": [],
   "source": [
    "nan_value = float(\"NaN\")\n",
    "replies.replace(\"\", nan_value, inplace=True)\n",
    "replies.dropna(subset=['Reply'], inplace=True)"
   ]
  },
  {
   "cell_type": "markdown",
   "metadata": {},
   "source": [
    "Links need to be removed as they don't add any information that is useful. \n",
    "\n",
    "New line characters and other similar ones should also need to be removed as they join two words together, making them indistinguishable from each other and causing us to miss important information. \n",
    "\n",
    "Empty strings were also removed as they don't add value to data exploration/sentiment analysis."
   ]
  },
  {
   "cell_type": "markdown",
   "metadata": {},
   "source": [
    "### Bigrams"
   ]
  },
  {
   "cell_type": "code",
   "execution_count": 7,
   "metadata": {},
   "outputs": [],
   "source": [
    "all_text = replies.iloc[:].Reply.str.cat(sep='. ')"
   ]
  },
  {
   "cell_type": "code",
   "execution_count": 8,
   "metadata": {},
   "outputs": [],
   "source": [
    "all_text = nltk.word_tokenize(all_text)"
   ]
  },
  {
   "cell_type": "code",
   "execution_count": 9,
   "metadata": {},
   "outputs": [],
   "source": [
    "from nltk.collocations import *\n",
    "\n",
    "def common_bigrams(tokenized_text, min_freq, top_n):\n",
    "    bigram_measures = nltk.collocations.BigramAssocMeasures()\n",
    "    finder = BigramCollocationFinder.from_words(tokenized_text)\n",
    "    finder.apply_freq_filter(min_freq) \n",
    "    finder.nbest(bigram_measures.pmi, top_n)\n",
    "    return finder.nbest(bigram_measures.pmi, top_n)"
   ]
  },
  {
   "cell_type": "code",
   "execution_count": 10,
   "metadata": {
    "tags": []
   },
   "outputs": [
    {
     "name": "stdout",
     "output_type": "stream",
     "text": [
      "[('third', 'party'), ('Petal', 'Search'), ('nova', '5t'), ('gon', 'na'), ('#', 'x200B'), ('factory', 'reset'), ('Introducing', '/r/Honor'), ('Start', 'discussions'), ('Post', 'News'), ('x200B', ';'), ('performed', 'automatically'), ('App', 'Gallery'), ('official', 'giveaways'), ('Harmony', 'OS'), ('open', 'source'), ('100', '%'), ('power', 'button'), ('Feel', 'free'), ('Play', 'Store'), ('&', '#')]\n"
     ]
    }
   ],
   "source": [
    "print(common_bigrams(all_text, 10, 20))"
   ]
  },
  {
   "cell_type": "markdown",
   "metadata": {},
   "source": [
    "The first bigram displayed is third party which most likely refers to how Huawei users need another method other than Play Store to download third party apps such as Facebook, Instagram etc.\n",
    "\n",
    "The second bigram displayed is Petal Search, a new feature on Huawei phones which is essentially a replacement of Google due to the ban on Huawei from using Google services. \n",
    "\n",
    "Another related bigram is Harmony OS which is Huawei's own operating system which Huawei plans to replace their phones with instead of using Android in case they are also banned from it as well and as a response to the Google ban.\n",
    "\n",
    "Play Store is also a bigram that most likely refers to the Google ban, and its implications on Huawei phones.\n",
    "\n",
    "Interestingly, only one model of a Huawei phone is displayed (which is nova 5t). It seems more likely that the flagships of Huawei (P series) would be talked about more."
   ]
  },
  {
   "cell_type": "markdown",
   "metadata": {},
   "source": [
    "### Wordcloud"
   ]
  },
  {
   "cell_type": "code",
   "execution_count": 11,
   "metadata": {},
   "outputs": [],
   "source": [
    "import wordcloud\n",
    "from wordcloud import WordCloud, STOPWORDS\n",
    "import matplotlib.pyplot as plt\n",
    "\n",
    "sample = replies.iloc[:].Reply.str.cat(sep='. ')"
   ]
  },
  {
   "cell_type": "code",
   "execution_count": 12,
   "metadata": {},
   "outputs": [],
   "source": [
    "import random\n",
    "def grey_color_func(word, font_size, position, orientation, random_state=None, **kwargs):\n",
    "    return \"hsl(0, 0%%, %d%%)\" % random.randint(1, 20)"
   ]
  },
  {
   "cell_type": "markdown",
   "metadata": {},
   "source": [
    "Add 'Huawei' to the stopwords as it is obvious that we are talking about Huawei and does not add additional insight.\n",
    "\n",
    "Also added other words that I thought weren't very insightful and wouldn't really contribute much."
   ]
  },
  {
   "cell_type": "code",
   "execution_count": 13,
   "metadata": {},
   "outputs": [
    {
     "data": {
      "image/png": "[encoded data removed]",
      "text/plain": [
       "<Figure size 720x1440 with 1 Axes>"
      ]
     },
     "metadata": {
      "needs_background": "light"
     },
     "output_type": "display_data"
    }
   ],
   "source": [
    "stp = STOPWORDS.copy()\n",
    "stp.add('Huawei')\n",
    "stp.add(\"n't\")\n",
    "stp.add('ca')\n",
    "stp.add('re')\n",
    "stp.add('ve')\n",
    "wc = WordCloud(background_color=\"white\", max_words=50,  stopwords=stp)\n",
    "# generate word cloud\n",
    "wc.generate(sample)\n",
    "\n",
    "plt.figure(figsize=(10,20))\n",
    "plt.imshow(wc.recolor(color_func=grey_color_func, random_state=3))\n",
    "plt.show()"
   ]
  },
  {
   "cell_type": "markdown",
   "metadata": {},
   "source": [
    "Interestingly, Harmony OS or Petal search aren't found in the wordcloud despite them being found in the bigrams. I would have thought it would be common topics considering recent events about Huawei.\n",
    "\n",
    "US is in the wordcloud which most likely refers to the tensions between China and US.\n",
    "\n",
    "Google and Android are fairly common words, whether this refers to the recent Google ban or is just issues people may be having is not clear though."
   ]
  },
  {
   "cell_type": "markdown",
   "metadata": {},
   "source": [
    "# Vader"
   ]
  },
  {
   "cell_type": "code",
   "execution_count": 14,
   "metadata": {
    "tags": []
   },
   "outputs": [],
   "source": [
    "from nltk.sentiment.vader import SentimentIntensityAnalyzer, VaderConstants\n",
    "\n",
    "#FIRST, we initialize VADER so we can use it within our Python script\n",
    "sid = SentimentIntensityAnalyzer()"
   ]
  },
  {
   "cell_type": "code",
   "execution_count": 15,
   "metadata": {},
   "outputs": [
    {
     "data": {
      "text/html": [
       "<div>\n",
       "<style scoped>\n",
       "    .dataframe tbody tr th:only-of-type {\n",
       "        vertical-align: middle;\n",
       "    }\n",
       "\n",
       "    .dataframe tbody tr th {\n",
       "        vertical-align: top;\n",
       "    }\n",
       "\n",
       "    .dataframe thead th {\n",
       "        text-align: right;\n",
       "    }\n",
       "</style>\n",
       "<table border=\"1\" class=\"dataframe\">\n",
       "  <thead>\n",
       "    <tr style=\"text-align: right;\">\n",
       "      <th></th>\n",
       "      <th>Reply</th>\n",
       "      <th>Upvote</th>\n",
       "      <th>Time</th>\n",
       "      <th>Key</th>\n",
       "    </tr>\n",
       "  </thead>\n",
       "  <tbody>\n",
       "    <tr>\n",
       "      <th>0</th>\n",
       "      <td>* * \\ [ MicroG Services\\ ] GMS for all Huawei ...</td>\n",
       "      <td>1.0</td>\n",
       "      <td>2020-08-13 15:10:37</td>\n",
       "      <td>0.0</td>\n",
       "    </tr>\n",
       "    <tr>\n",
       "      <th>1</th>\n",
       "      <td>Google Chrome -- -- &gt; Firefox Focus</td>\n",
       "      <td>11.0</td>\n",
       "      <td>2020-05-29 01:47:12</td>\n",
       "      <td>0.0</td>\n",
       "    </tr>\n",
       "    <tr>\n",
       "      <th>2</th>\n",
       "      <td>I use yandex disk in Belarus . Unlimited stora...</td>\n",
       "      <td>8.0</td>\n",
       "      <td>2020-06-01 09:08:23</td>\n",
       "      <td>0.0</td>\n",
       "    </tr>\n",
       "    <tr>\n",
       "      <th>3</th>\n",
       "      <td>Waze works without Google Play services ?</td>\n",
       "      <td>5.0</td>\n",
       "      <td>2020-05-29 08:39:25</td>\n",
       "      <td>0.0</td>\n",
       "    </tr>\n",
       "    <tr>\n",
       "      <th>4</th>\n",
       "      <td>6. you and add a webapp of you tube my using y...</td>\n",
       "      <td>6.0</td>\n",
       "      <td>2020-05-29 00:40:56</td>\n",
       "      <td>0.0</td>\n",
       "    </tr>\n",
       "    <tr>\n",
       "      <th>...</th>\n",
       "      <td>...</td>\n",
       "      <td>...</td>\n",
       "      <td>...</td>\n",
       "      <td>...</td>\n",
       "    </tr>\n",
       "    <tr>\n",
       "      <th>3313</th>\n",
       "      <td>I do n't have ChromeCast , and I 'm the sole u...</td>\n",
       "      <td>1.0</td>\n",
       "      <td>2020-08-21 02:05:25</td>\n",
       "      <td>950.0</td>\n",
       "    </tr>\n",
       "    <tr>\n",
       "      <th>3314</th>\n",
       "      <td>That 's odd . Also no Android TV on the networ...</td>\n",
       "      <td>1.0</td>\n",
       "      <td>2020-08-21 02:36:31</td>\n",
       "      <td>950.0</td>\n",
       "    </tr>\n",
       "    <tr>\n",
       "      <th>3315</th>\n",
       "      <td>Nah , my phone is the only smart thing in the ...</td>\n",
       "      <td>1.0</td>\n",
       "      <td>2020-08-21 02:43:44</td>\n",
       "      <td>950.0</td>\n",
       "    </tr>\n",
       "    <tr>\n",
       "      <th>3316</th>\n",
       "      <td>Anyone ?</td>\n",
       "      <td>1.0</td>\n",
       "      <td>2020-08-16 20:28:06</td>\n",
       "      <td>951.0</td>\n",
       "    </tr>\n",
       "    <tr>\n",
       "      <th>3317</th>\n",
       "      <td>I´m having the same problem , anyone ?</td>\n",
       "      <td>1.0</td>\n",
       "      <td>2020-08-30 08:04:08</td>\n",
       "      <td>951.0</td>\n",
       "    </tr>\n",
       "  </tbody>\n",
       "</table>\n",
       "<p>3305 rows × 4 columns</p>\n",
       "</div>"
      ],
      "text/plain": [
       "                                                  Reply  Upvote  \\\n",
       "0     * * \\ [ MicroG Services\\ ] GMS for all Huawei ...     1.0   \n",
       "1                   Google Chrome -- -- > Firefox Focus    11.0   \n",
       "2     I use yandex disk in Belarus . Unlimited stora...     8.0   \n",
       "3             Waze works without Google Play services ?     5.0   \n",
       "4     6. you and add a webapp of you tube my using y...     6.0   \n",
       "...                                                 ...     ...   \n",
       "3313  I do n't have ChromeCast , and I 'm the sole u...     1.0   \n",
       "3314  That 's odd . Also no Android TV on the networ...     1.0   \n",
       "3315  Nah , my phone is the only smart thing in the ...     1.0   \n",
       "3316                                           Anyone ?     1.0   \n",
       "3317             I´m having the same problem , anyone ?     1.0   \n",
       "\n",
       "                     Time    Key  \n",
       "0     2020-08-13 15:10:37    0.0  \n",
       "1     2020-05-29 01:47:12    0.0  \n",
       "2     2020-06-01 09:08:23    0.0  \n",
       "3     2020-05-29 08:39:25    0.0  \n",
       "4     2020-05-29 00:40:56    0.0  \n",
       "...                   ...    ...  \n",
       "3313  2020-08-21 02:05:25  950.0  \n",
       "3314  2020-08-21 02:36:31  950.0  \n",
       "3315  2020-08-21 02:43:44  950.0  \n",
       "3316  2020-08-16 20:28:06  951.0  \n",
       "3317  2020-08-30 08:04:08  951.0  \n",
       "\n",
       "[3305 rows x 4 columns]"
      ]
     },
     "execution_count": 15,
     "metadata": {},
     "output_type": "execute_result"
    }
   ],
   "source": [
    "df = replies\n",
    "df"
   ]
  },
  {
   "cell_type": "markdown",
   "metadata": {},
   "source": [
    "Extra data cleaning (empty strings)"
   ]
  },
  {
   "cell_type": "code",
   "execution_count": 16,
   "metadata": {},
   "outputs": [],
   "source": [
    "df[['neg','neu','pos','compound']] = df.Reply.apply(lambda x: pd.Series(sid.polarity_scores(x)))"
   ]
  },
  {
   "cell_type": "markdown",
   "metadata": {},
   "source": [
    "Adding a column that says whether the reply is neutral, positive or negative based on compound for easier readability.\n",
    "\n",
    "I also adjusted what constitutes as positive as there were a few positive scores that were very low (between 0 and 0.2) which were most likely neutral sentiments rather than a positve one."
   ]
  },
  {
   "cell_type": "code",
   "execution_count": 17,
   "metadata": {},
   "outputs": [],
   "source": [
    "def label_compound_result(row):\n",
    "    if row['compound'] > 0.2:\n",
    "        return 'positive'\n",
    "    elif row['compound'] < 0:\n",
    "        return 'negative'\n",
    "    return 'neutral'"
   ]
  },
  {
   "cell_type": "code",
   "execution_count": 18,
   "metadata": {},
   "outputs": [],
   "source": [
    "df['compound_result'] = df.apply (lambda row: label_compound_result(row), axis=1)"
   ]
  },
  {
   "cell_type": "code",
   "execution_count": 19,
   "metadata": {},
   "outputs": [
    {
     "data": {
      "text/html": [
       "<div>\n",
       "<style scoped>\n",
       "    .dataframe tbody tr th:only-of-type {\n",
       "        vertical-align: middle;\n",
       "    }\n",
       "\n",
       "    .dataframe tbody tr th {\n",
       "        vertical-align: top;\n",
       "    }\n",
       "\n",
       "    .dataframe thead th {\n",
       "        text-align: right;\n",
       "    }\n",
       "</style>\n",
       "<table border=\"1\" class=\"dataframe\">\n",
       "  <thead>\n",
       "    <tr style=\"text-align: right;\">\n",
       "      <th></th>\n",
       "      <th>Reply</th>\n",
       "      <th>Upvote</th>\n",
       "      <th>Time</th>\n",
       "      <th>Key</th>\n",
       "      <th>neg</th>\n",
       "      <th>neu</th>\n",
       "      <th>pos</th>\n",
       "      <th>compound</th>\n",
       "      <th>compound_result</th>\n",
       "    </tr>\n",
       "  </thead>\n",
       "  <tbody>\n",
       "    <tr>\n",
       "      <th>0</th>\n",
       "      <td>* * \\ [ MicroG Services\\ ] GMS for all Huawei ...</td>\n",
       "      <td>1.0</td>\n",
       "      <td>2020-08-13 15:10:37</td>\n",
       "      <td>0.0</td>\n",
       "      <td>0.000</td>\n",
       "      <td>1.000</td>\n",
       "      <td>0.000</td>\n",
       "      <td>0.0000</td>\n",
       "      <td>neutral</td>\n",
       "    </tr>\n",
       "    <tr>\n",
       "      <th>1</th>\n",
       "      <td>Google Chrome -- -- &gt; Firefox Focus</td>\n",
       "      <td>11.0</td>\n",
       "      <td>2020-05-29 01:47:12</td>\n",
       "      <td>0.0</td>\n",
       "      <td>0.000</td>\n",
       "      <td>1.000</td>\n",
       "      <td>0.000</td>\n",
       "      <td>0.0000</td>\n",
       "      <td>neutral</td>\n",
       "    </tr>\n",
       "    <tr>\n",
       "      <th>2</th>\n",
       "      <td>I use yandex disk in Belarus . Unlimited stora...</td>\n",
       "      <td>8.0</td>\n",
       "      <td>2020-06-01 09:08:23</td>\n",
       "      <td>0.0</td>\n",
       "      <td>0.052</td>\n",
       "      <td>0.665</td>\n",
       "      <td>0.283</td>\n",
       "      <td>0.8655</td>\n",
       "      <td>positive</td>\n",
       "    </tr>\n",
       "    <tr>\n",
       "      <th>3</th>\n",
       "      <td>Waze works without Google Play services ?</td>\n",
       "      <td>5.0</td>\n",
       "      <td>2020-05-29 08:39:25</td>\n",
       "      <td>0.0</td>\n",
       "      <td>0.289</td>\n",
       "      <td>0.711</td>\n",
       "      <td>0.000</td>\n",
       "      <td>-0.2584</td>\n",
       "      <td>negative</td>\n",
       "    </tr>\n",
       "    <tr>\n",
       "      <th>4</th>\n",
       "      <td>6. you and add a webapp of you tube my using y...</td>\n",
       "      <td>6.0</td>\n",
       "      <td>2020-05-29 00:40:56</td>\n",
       "      <td>0.0</td>\n",
       "      <td>0.000</td>\n",
       "      <td>0.893</td>\n",
       "      <td>0.107</td>\n",
       "      <td>0.4588</td>\n",
       "      <td>positive</td>\n",
       "    </tr>\n",
       "    <tr>\n",
       "      <th>...</th>\n",
       "      <td>...</td>\n",
       "      <td>...</td>\n",
       "      <td>...</td>\n",
       "      <td>...</td>\n",
       "      <td>...</td>\n",
       "      <td>...</td>\n",
       "      <td>...</td>\n",
       "      <td>...</td>\n",
       "      <td>...</td>\n",
       "    </tr>\n",
       "    <tr>\n",
       "      <th>3313</th>\n",
       "      <td>I do n't have ChromeCast , and I 'm the sole u...</td>\n",
       "      <td>1.0</td>\n",
       "      <td>2020-08-21 02:05:25</td>\n",
       "      <td>950.0</td>\n",
       "      <td>0.000</td>\n",
       "      <td>1.000</td>\n",
       "      <td>0.000</td>\n",
       "      <td>0.0000</td>\n",
       "      <td>neutral</td>\n",
       "    </tr>\n",
       "    <tr>\n",
       "      <th>3314</th>\n",
       "      <td>That 's odd . Also no Android TV on the networ...</td>\n",
       "      <td>1.0</td>\n",
       "      <td>2020-08-21 02:36:31</td>\n",
       "      <td>950.0</td>\n",
       "      <td>0.243</td>\n",
       "      <td>0.757</td>\n",
       "      <td>0.000</td>\n",
       "      <td>-0.5423</td>\n",
       "      <td>negative</td>\n",
       "    </tr>\n",
       "    <tr>\n",
       "      <th>3315</th>\n",
       "      <td>Nah , my phone is the only smart thing in the ...</td>\n",
       "      <td>1.0</td>\n",
       "      <td>2020-08-21 02:43:44</td>\n",
       "      <td>950.0</td>\n",
       "      <td>0.074</td>\n",
       "      <td>0.736</td>\n",
       "      <td>0.190</td>\n",
       "      <td>0.7717</td>\n",
       "      <td>positive</td>\n",
       "    </tr>\n",
       "    <tr>\n",
       "      <th>3316</th>\n",
       "      <td>Anyone ?</td>\n",
       "      <td>1.0</td>\n",
       "      <td>2020-08-16 20:28:06</td>\n",
       "      <td>951.0</td>\n",
       "      <td>0.000</td>\n",
       "      <td>1.000</td>\n",
       "      <td>0.000</td>\n",
       "      <td>0.0000</td>\n",
       "      <td>neutral</td>\n",
       "    </tr>\n",
       "    <tr>\n",
       "      <th>3317</th>\n",
       "      <td>I´m having the same problem , anyone ?</td>\n",
       "      <td>1.0</td>\n",
       "      <td>2020-08-30 08:04:08</td>\n",
       "      <td>951.0</td>\n",
       "      <td>0.351</td>\n",
       "      <td>0.649</td>\n",
       "      <td>0.000</td>\n",
       "      <td>-0.4019</td>\n",
       "      <td>negative</td>\n",
       "    </tr>\n",
       "  </tbody>\n",
       "</table>\n",
       "<p>3305 rows × 9 columns</p>\n",
       "</div>"
      ],
      "text/plain": [
       "                                                  Reply  Upvote  \\\n",
       "0     * * \\ [ MicroG Services\\ ] GMS for all Huawei ...     1.0   \n",
       "1                   Google Chrome -- -- > Firefox Focus    11.0   \n",
       "2     I use yandex disk in Belarus . Unlimited stora...     8.0   \n",
       "3             Waze works without Google Play services ?     5.0   \n",
       "4     6. you and add a webapp of you tube my using y...     6.0   \n",
       "...                                                 ...     ...   \n",
       "3313  I do n't have ChromeCast , and I 'm the sole u...     1.0   \n",
       "3314  That 's odd . Also no Android TV on the networ...     1.0   \n",
       "3315  Nah , my phone is the only smart thing in the ...     1.0   \n",
       "3316                                           Anyone ?     1.0   \n",
       "3317             I´m having the same problem , anyone ?     1.0   \n",
       "\n",
       "                     Time    Key    neg    neu    pos  compound  \\\n",
       "0     2020-08-13 15:10:37    0.0  0.000  1.000  0.000    0.0000   \n",
       "1     2020-05-29 01:47:12    0.0  0.000  1.000  0.000    0.0000   \n",
       "2     2020-06-01 09:08:23    0.0  0.052  0.665  0.283    0.8655   \n",
       "3     2020-05-29 08:39:25    0.0  0.289  0.711  0.000   -0.2584   \n",
       "4     2020-05-29 00:40:56    0.0  0.000  0.893  0.107    0.4588   \n",
       "...                   ...    ...    ...    ...    ...       ...   \n",
       "3313  2020-08-21 02:05:25  950.0  0.000  1.000  0.000    0.0000   \n",
       "3314  2020-08-21 02:36:31  950.0  0.243  0.757  0.000   -0.5423   \n",
       "3315  2020-08-21 02:43:44  950.0  0.074  0.736  0.190    0.7717   \n",
       "3316  2020-08-16 20:28:06  951.0  0.000  1.000  0.000    0.0000   \n",
       "3317  2020-08-30 08:04:08  951.0  0.351  0.649  0.000   -0.4019   \n",
       "\n",
       "     compound_result  \n",
       "0            neutral  \n",
       "1            neutral  \n",
       "2           positive  \n",
       "3           negative  \n",
       "4           positive  \n",
       "...              ...  \n",
       "3313         neutral  \n",
       "3314        negative  \n",
       "3315        positive  \n",
       "3316         neutral  \n",
       "3317        negative  \n",
       "\n",
       "[3305 rows x 9 columns]"
      ]
     },
     "execution_count": 19,
     "metadata": {},
     "output_type": "execute_result"
    }
   ],
   "source": [
    "df"
   ]
  },
  {
   "cell_type": "code",
   "execution_count": 20,
   "metadata": {},
   "outputs": [],
   "source": [
    "replies.to_csv('Replies - Sentiment analysis.csv',index=False)"
   ]
  },
  {
   "cell_type": "code",
   "execution_count": 21,
   "metadata": {},
   "outputs": [
    {
     "data": {
      "text/plain": [
       "1612"
      ]
     },
     "execution_count": 21,
     "metadata": {},
     "output_type": "execute_result"
    }
   ],
   "source": [
    "replies.compound_result.value_counts().positive"
   ]
  },
  {
   "cell_type": "code",
   "execution_count": 22,
   "metadata": {},
   "outputs": [
    {
     "data": {
      "text/plain": [
       "673"
      ]
     },
     "execution_count": 22,
     "metadata": {},
     "output_type": "execute_result"
    }
   ],
   "source": [
    "replies.compound_result.value_counts().negative"
   ]
  },
  {
   "cell_type": "code",
   "execution_count": 23,
   "metadata": {},
   "outputs": [
    {
     "data": {
      "text/plain": [
       "1020"
      ]
     },
     "execution_count": 23,
     "metadata": {},
     "output_type": "execute_result"
    }
   ],
   "source": [
    "replies.compound_result.value_counts().neutral"
   ]
  },
  {
   "cell_type": "markdown",
   "metadata": {},
   "source": [
    "Numbers for each sentiment:\n",
    "    \n",
    "    Positive: 1612\n",
    "    \n",
    "    Negative: 673\n",
    "    \n",
    "    Neutral: 1020"
   ]
  }
 ],
 "metadata": {
  "kernelspec": {
   "display_name": "venv",
   "language": "python",
   "name": "venv"
  },
  "language_info": {
   "codemirror_mode": {
    "name": "ipython",
    "version": 3
   },
   "file_extension": ".py",
   "mimetype": "text/x-python",
   "name": "python",
   "nbconvert_exporter": "python",
   "pygments_lexer": "ipython3",
   "version": "3.8.5"
  }
 },
 "nbformat": 4,
 "nbformat_minor": 4
}
