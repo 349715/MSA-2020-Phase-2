{
 "cells": [
  {
   "cell_type": "markdown",
   "metadata": {},
   "source": [
    "# Training your own classifier "
   ]
  },
  {
   "cell_type": "markdown",
   "metadata": {},
   "source": [
    "## Preprocessing"
   ]
  },
  {
   "cell_type": "code",
   "execution_count": 1,
   "metadata": {},
   "outputs": [],
   "source": [
    "import re\n",
    "import pandas as pd\n",
    "import nltk"
   ]
  },
  {
   "cell_type": "code",
   "execution_count": 2,
   "metadata": {},
   "outputs": [],
   "source": [
    "data = pd.read_csv('train.csv')"
   ]
  },
  {
   "cell_type": "code",
   "execution_count": 3,
   "metadata": {},
   "outputs": [
    {
     "data": {
      "text/html": [
       "<div>\n",
       "<style scoped>\n",
       "    .dataframe tbody tr th:only-of-type {\n",
       "        vertical-align: middle;\n",
       "    }\n",
       "\n",
       "    .dataframe tbody tr th {\n",
       "        vertical-align: top;\n",
       "    }\n",
       "\n",
       "    .dataframe thead th {\n",
       "        text-align: right;\n",
       "    }\n",
       "</style>\n",
       "<table border=\"1\" class=\"dataframe\">\n",
       "  <thead>\n",
       "    <tr style=\"text-align: right;\">\n",
       "      <th></th>\n",
       "      <th>textID</th>\n",
       "      <th>text</th>\n",
       "      <th>sentiment</th>\n",
       "    </tr>\n",
       "  </thead>\n",
       "  <tbody>\n",
       "    <tr>\n",
       "      <th>0</th>\n",
       "      <td>cb774db0d1</td>\n",
       "      <td>I`d have responded, if I were going</td>\n",
       "      <td>neutral</td>\n",
       "    </tr>\n",
       "  </tbody>\n",
       "</table>\n",
       "</div>"
      ],
      "text/plain": [
       "       textID                                  text sentiment\n",
       "0  cb774db0d1   I`d have responded, if I were going   neutral"
      ]
     },
     "execution_count": 3,
     "metadata": {},
     "output_type": "execute_result"
    }
   ],
   "source": [
    "data.head(1)"
   ]
  },
  {
   "cell_type": "code",
   "execution_count": 4,
   "metadata": {},
   "outputs": [],
   "source": [
    "data.dropna(subset=['text'], inplace=True)"
   ]
  },
  {
   "cell_type": "markdown",
   "metadata": {},
   "source": [
    "## Remove punctuation"
   ]
  },
  {
   "cell_type": "markdown",
   "metadata": {},
   "source": [
    "Punctuation doesn't provide any useful information about the sentiment of a piece of text so it should be removed to simplify the training process."
   ]
  },
  {
   "cell_type": "code",
   "execution_count": 5,
   "metadata": {},
   "outputs": [],
   "source": [
    "data.text = data.text.apply(lambda x: re.sub(r'[^\\w\\s]', '', x) )"
   ]
  },
  {
   "cell_type": "markdown",
   "metadata": {},
   "source": [
    "## Remove stopwords"
   ]
  },
  {
   "cell_type": "markdown",
   "metadata": {},
   "source": [
    "Stopwords are words in the english language that aren't very meaningful and can be easily skipped when conducting sentiment analysis. It would make the process faster if the stopwords were removed."
   ]
  },
  {
   "cell_type": "code",
   "execution_count": 6,
   "metadata": {},
   "outputs": [],
   "source": [
    "from nltk.corpus import stopwords\n",
    "stopwords = stopwords.words('english')\n",
    "data.text = data.text.apply(lambda x: ' '.join([word for word in nltk.word_tokenize(x) if word.lower() not in stopwords]))"
   ]
  },
  {
   "cell_type": "markdown",
   "metadata": {},
   "source": [
    "## Remove links"
   ]
  },
  {
   "cell_type": "markdown",
   "metadata": {},
   "source": [
    "Link addresses don't provide much information about its contents so it isn't useful in sentiment analysis and hence should be removed."
   ]
  },
  {
   "cell_type": "code",
   "execution_count": 7,
   "metadata": {},
   "outputs": [],
   "source": [
    "data.text = data.text.apply(lambda x: re.sub(r'\\(?http\\S+', '', x))"
   ]
  },
  {
   "cell_type": "markdown",
   "metadata": {},
   "source": [
    "## Lemmatization"
   ]
  },
  {
   "cell_type": "markdown",
   "metadata": {},
   "source": [
    "Lemmatization was the method chosen as it is less crude than the stemming method and seems to be more reliable."
   ]
  },
  {
   "cell_type": "code",
   "execution_count": 8,
   "metadata": {},
   "outputs": [],
   "source": [
    "lemmatizer = nltk.WordNetLemmatizer()\n",
    "data.text = data.text.apply(lambda x: ' '.join(\n",
    "    [lemmatizer.lemmatize(word) for word in nltk.word_tokenize(x)]\n",
    "        ) )"
   ]
  },
  {
   "cell_type": "markdown",
   "metadata": {},
   "source": [
    "## Training a naive bayes sentiment classifier"
   ]
  },
  {
   "cell_type": "code",
   "execution_count": 9,
   "metadata": {},
   "outputs": [],
   "source": [
    "from sklearn.model_selection import train_test_split\n",
    "from sklearn.feature_extraction.text import CountVectorizer, TfidfVectorizer\n",
    "from sklearn.naive_bayes import MultinomialNB, GaussianNB\n",
    "from sklearn import metrics"
   ]
  },
  {
   "cell_type": "code",
   "execution_count": 10,
   "metadata": {},
   "outputs": [],
   "source": [
    "vectorizer = CountVectorizer()"
   ]
  },
  {
   "cell_type": "code",
   "execution_count": 11,
   "metadata": {},
   "outputs": [],
   "source": [
    "data.dropna(subset=['text'], inplace=True)\n",
    "X = vectorizer.fit_transform(data.text)"
   ]
  },
  {
   "cell_type": "code",
   "execution_count": 12,
   "metadata": {},
   "outputs": [
    {
     "data": {
      "text/plain": [
       "MultinomialNB()"
      ]
     },
     "execution_count": 12,
     "metadata": {},
     "output_type": "execute_result"
    }
   ],
   "source": [
    "nb = MultinomialNB()\n",
    "\n",
    "#nb.fit(features_matrix, item_we_want_to_predict)\n",
    "nb.fit(X, data.sentiment)"
   ]
  },
  {
   "cell_type": "markdown",
   "metadata": {},
   "source": [
    "# Advanced Requirement  - Sentiment analysis on data extracted from Reddit"
   ]
  },
  {
   "cell_type": "code",
   "execution_count": 13,
   "metadata": {},
   "outputs": [],
   "source": [
    "test_data = pd.read_csv('Replies.csv')"
   ]
  },
  {
   "cell_type": "code",
   "execution_count": 14,
   "metadata": {},
   "outputs": [],
   "source": [
    "test_data.dropna(subset=['Reply'], inplace=True)"
   ]
  },
  {
   "cell_type": "markdown",
   "metadata": {},
   "source": [
    "## Data Cleaning"
   ]
  },
  {
   "cell_type": "code",
   "execution_count": 15,
   "metadata": {},
   "outputs": [],
   "source": [
    "test_data.Reply = test_data.Reply.apply(lambda x: re.sub(r'[^\\w\\s]', '', x) )"
   ]
  },
  {
   "cell_type": "code",
   "execution_count": 16,
   "metadata": {},
   "outputs": [],
   "source": [
    "test_data.Reply = test_data.Reply.apply(lambda x: ' '.join([word for word in nltk.word_tokenize(x) if word.lower() not in stopwords]))"
   ]
  },
  {
   "cell_type": "code",
   "execution_count": 17,
   "metadata": {},
   "outputs": [],
   "source": [
    "test_data.Reply = test_data.Reply.apply(lambda x: re.sub(r'\\(?http\\S+', '', x))"
   ]
  },
  {
   "cell_type": "markdown",
   "metadata": {},
   "source": [
    "## Lemmatization"
   ]
  },
  {
   "cell_type": "code",
   "execution_count": 18,
   "metadata": {},
   "outputs": [],
   "source": [
    "test_data.Reply = test_data.Reply.apply(lambda x: ' '.join(\n",
    "    [lemmatizer.lemmatize(word) for word in nltk.word_tokenize(x)]\n",
    "        ) )"
   ]
  },
  {
   "cell_type": "markdown",
   "metadata": {},
   "source": [
    "## Generating sentiments"
   ]
  },
  {
   "cell_type": "code",
   "execution_count": 19,
   "metadata": {},
   "outputs": [],
   "source": [
    "test_data.dropna(subset=['Reply'], inplace=True)\n",
    "test_X = vectorizer.transform(test_data.Reply)"
   ]
  },
  {
   "cell_type": "code",
   "execution_count": 20,
   "metadata": {},
   "outputs": [],
   "source": [
    "predicted = nb.predict(test_X)"
   ]
  },
  {
   "cell_type": "code",
   "execution_count": 21,
   "metadata": {},
   "outputs": [],
   "source": [
    "prediction_data = test_data"
   ]
  },
  {
   "cell_type": "code",
   "execution_count": 22,
   "metadata": {},
   "outputs": [],
   "source": [
    "prediction_data = prediction_data.assign(sentiment = predicted)"
   ]
  },
  {
   "cell_type": "code",
   "execution_count": 23,
   "metadata": {},
   "outputs": [],
   "source": [
    "prediction_data.to_csv('Replies - Advanced Requirement.csv',index=False)"
   ]
  },
  {
   "cell_type": "markdown",
   "metadata": {},
   "source": [
    "## Comparing pre-built package and trained model"
   ]
  },
  {
   "cell_type": "code",
   "execution_count": 24,
   "metadata": {},
   "outputs": [],
   "source": [
    "prebuilt_package = pd.read_csv('Replies - Sentiment analysis.csv')"
   ]
  },
  {
   "cell_type": "code",
   "execution_count": 25,
   "metadata": {},
   "outputs": [
    {
     "data": {
      "text/html": [
       "<div>\n",
       "<style scoped>\n",
       "    .dataframe tbody tr th:only-of-type {\n",
       "        vertical-align: middle;\n",
       "    }\n",
       "\n",
       "    .dataframe tbody tr th {\n",
       "        vertical-align: top;\n",
       "    }\n",
       "\n",
       "    .dataframe thead th {\n",
       "        text-align: right;\n",
       "    }\n",
       "</style>\n",
       "<table border=\"1\" class=\"dataframe\">\n",
       "  <thead>\n",
       "    <tr style=\"text-align: right;\">\n",
       "      <th></th>\n",
       "      <th>Reply</th>\n",
       "      <th>Upvote</th>\n",
       "      <th>Time</th>\n",
       "      <th>Key</th>\n",
       "      <th>sentiment</th>\n",
       "    </tr>\n",
       "  </thead>\n",
       "  <tbody>\n",
       "    <tr>\n",
       "      <th>0</th>\n",
       "      <td>MicroG Services GMS Huawei Devices running HMS</td>\n",
       "      <td>1.0</td>\n",
       "      <td>2020-08-13 15:10:37</td>\n",
       "      <td>0.0</td>\n",
       "      <td>neutral</td>\n",
       "    </tr>\n",
       "    <tr>\n",
       "      <th>1</th>\n",
       "      <td>Google Chrome Firefox Focus</td>\n",
       "      <td>11.0</td>\n",
       "      <td>2020-05-29 01:47:12</td>\n",
       "      <td>0.0</td>\n",
       "      <td>neutral</td>\n",
       "    </tr>\n",
       "    <tr>\n",
       "      <th>2</th>\n",
       "      <td>use yandex disk Belarus Unlimited storage phot...</td>\n",
       "      <td>8.0</td>\n",
       "      <td>2020-06-01 09:08:23</td>\n",
       "      <td>0.0</td>\n",
       "      <td>neutral</td>\n",
       "    </tr>\n",
       "    <tr>\n",
       "      <th>3</th>\n",
       "      <td>Waze work without Google Play service</td>\n",
       "      <td>5.0</td>\n",
       "      <td>2020-05-29 08:39:25</td>\n",
       "      <td>0.0</td>\n",
       "      <td>neutral</td>\n",
       "    </tr>\n",
       "    <tr>\n",
       "      <th>4</th>\n",
       "      <td>6 add webapp tube using favorite browser page ...</td>\n",
       "      <td>6.0</td>\n",
       "      <td>2020-05-29 00:40:56</td>\n",
       "      <td>0.0</td>\n",
       "      <td>neutral</td>\n",
       "    </tr>\n",
       "    <tr>\n",
       "      <th>5</th>\n",
       "      <td>Google Drive pCloud Gmail move ProtonMail Tuta...</td>\n",
       "      <td>3.0</td>\n",
       "      <td>2020-05-29 00:01:50</td>\n",
       "      <td>0.0</td>\n",
       "      <td>neutral</td>\n",
       "    </tr>\n",
       "    <tr>\n",
       "      <th>6</th>\n",
       "      <td>one hell compromise consumer Cant believe US g...</td>\n",
       "      <td>3.0</td>\n",
       "      <td>2020-08-20 10:53:04</td>\n",
       "      <td>0.0</td>\n",
       "      <td>negative</td>\n",
       "    </tr>\n",
       "    <tr>\n",
       "      <th>7</th>\n",
       "      <td>got Google mobile service work P40 Pro using t...</td>\n",
       "      <td>4.0</td>\n",
       "      <td>2020-06-03 05:38:53</td>\n",
       "      <td>0.0</td>\n",
       "      <td>neutral</td>\n",
       "    </tr>\n",
       "    <tr>\n",
       "      <th>8</th>\n",
       "      <td>Like Huawei Browser sync desktop Huawei cloud ...</td>\n",
       "      <td>2.0</td>\n",
       "      <td>2020-05-29 02:09:17</td>\n",
       "      <td>0.0</td>\n",
       "      <td>neutral</td>\n",
       "    </tr>\n",
       "    <tr>\n",
       "      <th>9</th>\n",
       "      <td>Really want Google Pay least Huawei Pay work b...</td>\n",
       "      <td>2.0</td>\n",
       "      <td>2020-05-31 11:10:33</td>\n",
       "      <td>0.0</td>\n",
       "      <td>neutral</td>\n",
       "    </tr>\n",
       "    <tr>\n",
       "      <th>10</th>\n",
       "      <td>anyone issue using Microsoft Authenticator wor...</td>\n",
       "      <td>2.0</td>\n",
       "      <td>2020-07-19 09:47:36</td>\n",
       "      <td>0.0</td>\n",
       "      <td>neutral</td>\n",
       "    </tr>\n",
       "    <tr>\n",
       "      <th>11</th>\n",
       "      <td>amazon app store apkpure great play store alte...</td>\n",
       "      <td>2.0</td>\n",
       "      <td>2020-07-20 06:49:49</td>\n",
       "      <td>0.0</td>\n",
       "      <td>neutral</td>\n",
       "    </tr>\n",
       "    <tr>\n",
       "      <th>12</th>\n",
       "      <td>Google Drive Meganz Cloud Server</td>\n",
       "      <td>2.0</td>\n",
       "      <td>2020-07-27 21:06:01</td>\n",
       "      <td>0.0</td>\n",
       "      <td>neutral</td>\n",
       "    </tr>\n",
       "    <tr>\n",
       "      <th>13</th>\n",
       "      <td>Youtube vanced want YouTube</td>\n",
       "      <td>2.0</td>\n",
       "      <td>2020-08-07 18:36:06</td>\n",
       "      <td>0.0</td>\n",
       "      <td>neutral</td>\n",
       "    </tr>\n",
       "    <tr>\n",
       "      <th>14</th>\n",
       "      <td>wanted add Microsoft Outlook Google Calendar G...</td>\n",
       "      <td>2.0</td>\n",
       "      <td>2020-08-23 04:11:04</td>\n",
       "      <td>0.0</td>\n",
       "      <td>neutral</td>\n",
       "    </tr>\n",
       "    <tr>\n",
       "      <th>15</th>\n",
       "      <td>Could anyone help good alternative Google Phot...</td>\n",
       "      <td>2.0</td>\n",
       "      <td>2020-08-23 13:01:35</td>\n",
       "      <td>0.0</td>\n",
       "      <td>neutral</td>\n",
       "    </tr>\n",
       "    <tr>\n",
       "      <th>16</th>\n",
       "      <td>Huawei AppGallery best alternative google play...</td>\n",
       "      <td>2.0</td>\n",
       "      <td>2020-08-24 09:21:23</td>\n",
       "      <td>0.0</td>\n",
       "      <td>positive</td>\n",
       "    </tr>\n",
       "    <tr>\n",
       "      <th>17</th>\n",
       "      <td>Russian equivalent Google Yandex service need ...</td>\n",
       "      <td>1.0</td>\n",
       "      <td>2020-05-29 02:42:43</td>\n",
       "      <td>0.0</td>\n",
       "      <td>neutral</td>\n",
       "    </tr>\n",
       "    <tr>\n",
       "      <th>18</th>\n",
       "      <td>OneDrive work would good way backing photo</td>\n",
       "      <td>1.0</td>\n",
       "      <td>2020-05-29 02:51:16</td>\n",
       "      <td>0.0</td>\n",
       "      <td>positive</td>\n",
       "    </tr>\n",
       "    <tr>\n",
       "      <th>19</th>\n",
       "      <td>Anyone found good 2FA app</td>\n",
       "      <td>1.0</td>\n",
       "      <td>2020-05-29 08:59:55</td>\n",
       "      <td>0.0</td>\n",
       "      <td>neutral</td>\n",
       "    </tr>\n",
       "  </tbody>\n",
       "</table>\n",
       "</div>"
      ],
      "text/plain": [
       "                                                Reply  Upvote  \\\n",
       "0      MicroG Services GMS Huawei Devices running HMS     1.0   \n",
       "1                         Google Chrome Firefox Focus    11.0   \n",
       "2   use yandex disk Belarus Unlimited storage phot...     8.0   \n",
       "3               Waze work without Google Play service     5.0   \n",
       "4   6 add webapp tube using favorite browser page ...     6.0   \n",
       "5   Google Drive pCloud Gmail move ProtonMail Tuta...     3.0   \n",
       "6   one hell compromise consumer Cant believe US g...     3.0   \n",
       "7   got Google mobile service work P40 Pro using t...     4.0   \n",
       "8   Like Huawei Browser sync desktop Huawei cloud ...     2.0   \n",
       "9   Really want Google Pay least Huawei Pay work b...     2.0   \n",
       "10  anyone issue using Microsoft Authenticator wor...     2.0   \n",
       "11  amazon app store apkpure great play store alte...     2.0   \n",
       "12                   Google Drive Meganz Cloud Server     2.0   \n",
       "13                        Youtube vanced want YouTube     2.0   \n",
       "14  wanted add Microsoft Outlook Google Calendar G...     2.0   \n",
       "15  Could anyone help good alternative Google Phot...     2.0   \n",
       "16  Huawei AppGallery best alternative google play...     2.0   \n",
       "17  Russian equivalent Google Yandex service need ...     1.0   \n",
       "18         OneDrive work would good way backing photo     1.0   \n",
       "19                          Anyone found good 2FA app     1.0   \n",
       "\n",
       "                   Time  Key sentiment  \n",
       "0   2020-08-13 15:10:37  0.0   neutral  \n",
       "1   2020-05-29 01:47:12  0.0   neutral  \n",
       "2   2020-06-01 09:08:23  0.0   neutral  \n",
       "3   2020-05-29 08:39:25  0.0   neutral  \n",
       "4   2020-05-29 00:40:56  0.0   neutral  \n",
       "5   2020-05-29 00:01:50  0.0   neutral  \n",
       "6   2020-08-20 10:53:04  0.0  negative  \n",
       "7   2020-06-03 05:38:53  0.0   neutral  \n",
       "8   2020-05-29 02:09:17  0.0   neutral  \n",
       "9   2020-05-31 11:10:33  0.0   neutral  \n",
       "10  2020-07-19 09:47:36  0.0   neutral  \n",
       "11  2020-07-20 06:49:49  0.0   neutral  \n",
       "12  2020-07-27 21:06:01  0.0   neutral  \n",
       "13  2020-08-07 18:36:06  0.0   neutral  \n",
       "14  2020-08-23 04:11:04  0.0   neutral  \n",
       "15  2020-08-23 13:01:35  0.0   neutral  \n",
       "16  2020-08-24 09:21:23  0.0  positive  \n",
       "17  2020-05-29 02:42:43  0.0   neutral  \n",
       "18  2020-05-29 02:51:16  0.0  positive  \n",
       "19  2020-05-29 08:59:55  0.0   neutral  "
      ]
     },
     "execution_count": 25,
     "metadata": {},
     "output_type": "execute_result"
    }
   ],
   "source": [
    "prediction_data.head(20)"
   ]
  },
  {
   "cell_type": "code",
   "execution_count": 26,
   "metadata": {
    "scrolled": true
   },
   "outputs": [
    {
     "data": {
      "text/html": [
       "<div>\n",
       "<style scoped>\n",
       "    .dataframe tbody tr th:only-of-type {\n",
       "        vertical-align: middle;\n",
       "    }\n",
       "\n",
       "    .dataframe tbody tr th {\n",
       "        vertical-align: top;\n",
       "    }\n",
       "\n",
       "    .dataframe thead th {\n",
       "        text-align: right;\n",
       "    }\n",
       "</style>\n",
       "<table border=\"1\" class=\"dataframe\">\n",
       "  <thead>\n",
       "    <tr style=\"text-align: right;\">\n",
       "      <th></th>\n",
       "      <th>Reply</th>\n",
       "      <th>Upvote</th>\n",
       "      <th>Time</th>\n",
       "      <th>Key</th>\n",
       "      <th>neg</th>\n",
       "      <th>neu</th>\n",
       "      <th>pos</th>\n",
       "      <th>compound</th>\n",
       "      <th>compound_result</th>\n",
       "    </tr>\n",
       "  </thead>\n",
       "  <tbody>\n",
       "    <tr>\n",
       "      <th>0</th>\n",
       "      <td>* * \\ [ MicroG Services\\ ] GMS for all Huawei ...</td>\n",
       "      <td>1.0</td>\n",
       "      <td>2020-08-13 15:10:37</td>\n",
       "      <td>0.0</td>\n",
       "      <td>0.000</td>\n",
       "      <td>1.000</td>\n",
       "      <td>0.000</td>\n",
       "      <td>0.0000</td>\n",
       "      <td>neutral</td>\n",
       "    </tr>\n",
       "    <tr>\n",
       "      <th>1</th>\n",
       "      <td>Google Chrome -- -- &gt; Firefox Focus</td>\n",
       "      <td>11.0</td>\n",
       "      <td>2020-05-29 01:47:12</td>\n",
       "      <td>0.0</td>\n",
       "      <td>0.000</td>\n",
       "      <td>1.000</td>\n",
       "      <td>0.000</td>\n",
       "      <td>0.0000</td>\n",
       "      <td>neutral</td>\n",
       "    </tr>\n",
       "    <tr>\n",
       "      <th>2</th>\n",
       "      <td>I use yandex disk in Belarus . Unlimited stora...</td>\n",
       "      <td>8.0</td>\n",
       "      <td>2020-06-01 09:08:23</td>\n",
       "      <td>0.0</td>\n",
       "      <td>0.052</td>\n",
       "      <td>0.665</td>\n",
       "      <td>0.283</td>\n",
       "      <td>0.8655</td>\n",
       "      <td>positive</td>\n",
       "    </tr>\n",
       "    <tr>\n",
       "      <th>3</th>\n",
       "      <td>Waze works without Google Play services ?</td>\n",
       "      <td>5.0</td>\n",
       "      <td>2020-05-29 08:39:25</td>\n",
       "      <td>0.0</td>\n",
       "      <td>0.289</td>\n",
       "      <td>0.711</td>\n",
       "      <td>0.000</td>\n",
       "      <td>-0.2584</td>\n",
       "      <td>negative</td>\n",
       "    </tr>\n",
       "    <tr>\n",
       "      <th>4</th>\n",
       "      <td>6. you and add a webapp of you tube my using y...</td>\n",
       "      <td>6.0</td>\n",
       "      <td>2020-05-29 00:40:56</td>\n",
       "      <td>0.0</td>\n",
       "      <td>0.000</td>\n",
       "      <td>0.893</td>\n",
       "      <td>0.107</td>\n",
       "      <td>0.4588</td>\n",
       "      <td>positive</td>\n",
       "    </tr>\n",
       "    <tr>\n",
       "      <th>5</th>\n",
       "      <td>Google Drive - pCloud Gmail - move to ProtonMa...</td>\n",
       "      <td>3.0</td>\n",
       "      <td>2020-05-29 00:01:50</td>\n",
       "      <td>0.0</td>\n",
       "      <td>0.000</td>\n",
       "      <td>1.000</td>\n",
       "      <td>0.000</td>\n",
       "      <td>0.0000</td>\n",
       "      <td>neutral</td>\n",
       "    </tr>\n",
       "    <tr>\n",
       "      <th>6</th>\n",
       "      <td>This is one hell of a compromise for consumers...</td>\n",
       "      <td>3.0</td>\n",
       "      <td>2020-08-20 10:53:04</td>\n",
       "      <td>0.0</td>\n",
       "      <td>0.117</td>\n",
       "      <td>0.758</td>\n",
       "      <td>0.125</td>\n",
       "      <td>0.1165</td>\n",
       "      <td>neutral</td>\n",
       "    </tr>\n",
       "    <tr>\n",
       "      <th>7</th>\n",
       "      <td>I got Google mobile services to work on my P40...</td>\n",
       "      <td>4.0</td>\n",
       "      <td>2020-06-03 05:38:53</td>\n",
       "      <td>0.0</td>\n",
       "      <td>0.000</td>\n",
       "      <td>1.000</td>\n",
       "      <td>0.000</td>\n",
       "      <td>0.0000</td>\n",
       "      <td>neutral</td>\n",
       "    </tr>\n",
       "    <tr>\n",
       "      <th>8</th>\n",
       "      <td>Like the Huawei Browser , but there is no sync...</td>\n",
       "      <td>2.0</td>\n",
       "      <td>2020-05-29 02:09:17</td>\n",
       "      <td>0.0</td>\n",
       "      <td>0.093</td>\n",
       "      <td>0.884</td>\n",
       "      <td>0.023</td>\n",
       "      <td>-0.6451</td>\n",
       "      <td>negative</td>\n",
       "    </tr>\n",
       "    <tr>\n",
       "      <th>9</th>\n",
       "      <td>Really just want Google Pay ! Or at the very l...</td>\n",
       "      <td>2.0</td>\n",
       "      <td>2020-05-31 11:10:33</td>\n",
       "      <td>0.0</td>\n",
       "      <td>0.056</td>\n",
       "      <td>0.779</td>\n",
       "      <td>0.165</td>\n",
       "      <td>0.7547</td>\n",
       "      <td>positive</td>\n",
       "    </tr>\n",
       "    <tr>\n",
       "      <th>10</th>\n",
       "      <td>Does anyone having issues with using Microsoft...</td>\n",
       "      <td>2.0</td>\n",
       "      <td>2020-07-19 09:47:36</td>\n",
       "      <td>0.0</td>\n",
       "      <td>0.000</td>\n",
       "      <td>0.940</td>\n",
       "      <td>0.060</td>\n",
       "      <td>0.2023</td>\n",
       "      <td>positive</td>\n",
       "    </tr>\n",
       "    <tr>\n",
       "      <th>11</th>\n",
       "      <td>The amazon app store and apkpure are great pla...</td>\n",
       "      <td>2.0</td>\n",
       "      <td>2020-07-20 06:49:49</td>\n",
       "      <td>0.0</td>\n",
       "      <td>0.000</td>\n",
       "      <td>0.526</td>\n",
       "      <td>0.474</td>\n",
       "      <td>0.9246</td>\n",
       "      <td>positive</td>\n",
       "    </tr>\n",
       "    <tr>\n",
       "      <th>12</th>\n",
       "      <td>Google Drive - &gt; Mega.nz Cloud Server</td>\n",
       "      <td>2.0</td>\n",
       "      <td>2020-07-27 21:06:01</td>\n",
       "      <td>0.0</td>\n",
       "      <td>0.000</td>\n",
       "      <td>1.000</td>\n",
       "      <td>0.000</td>\n",
       "      <td>0.0000</td>\n",
       "      <td>neutral</td>\n",
       "    </tr>\n",
       "    <tr>\n",
       "      <th>13</th>\n",
       "      <td>Youtube vanced for those who want YouTube .</td>\n",
       "      <td>2.0</td>\n",
       "      <td>2020-08-07 18:36:06</td>\n",
       "      <td>0.0</td>\n",
       "      <td>0.000</td>\n",
       "      <td>0.822</td>\n",
       "      <td>0.178</td>\n",
       "      <td>0.0772</td>\n",
       "      <td>neutral</td>\n",
       "    </tr>\n",
       "    <tr>\n",
       "      <th>14</th>\n",
       "      <td>Just wanted to add Microsoft Outlook as a Goog...</td>\n",
       "      <td>2.0</td>\n",
       "      <td>2020-08-23 04:11:04</td>\n",
       "      <td>0.0</td>\n",
       "      <td>0.068</td>\n",
       "      <td>0.830</td>\n",
       "      <td>0.101</td>\n",
       "      <td>0.4033</td>\n",
       "      <td>positive</td>\n",
       "    </tr>\n",
       "    <tr>\n",
       "      <th>15</th>\n",
       "      <td>Could anyone help me with a good alternative t...</td>\n",
       "      <td>2.0</td>\n",
       "      <td>2020-08-23 13:01:35</td>\n",
       "      <td>0.0</td>\n",
       "      <td>0.077</td>\n",
       "      <td>0.790</td>\n",
       "      <td>0.133</td>\n",
       "      <td>0.0849</td>\n",
       "      <td>neutral</td>\n",
       "    </tr>\n",
       "    <tr>\n",
       "      <th>16</th>\n",
       "      <td>Huawei AppGallery best alternative for google ...</td>\n",
       "      <td>2.0</td>\n",
       "      <td>2020-08-24 09:21:23</td>\n",
       "      <td>0.0</td>\n",
       "      <td>0.000</td>\n",
       "      <td>0.548</td>\n",
       "      <td>0.452</td>\n",
       "      <td>0.7650</td>\n",
       "      <td>positive</td>\n",
       "    </tr>\n",
       "    <tr>\n",
       "      <th>17</th>\n",
       "      <td>The Russian equivalent to Google – Yandex – ha...</td>\n",
       "      <td>1.0</td>\n",
       "      <td>2020-05-29 02:42:43</td>\n",
       "      <td>0.0</td>\n",
       "      <td>0.038</td>\n",
       "      <td>0.786</td>\n",
       "      <td>0.175</td>\n",
       "      <td>0.9493</td>\n",
       "      <td>positive</td>\n",
       "    </tr>\n",
       "    <tr>\n",
       "      <th>18</th>\n",
       "      <td>Does OneDrive work ? If so , that would be a g...</td>\n",
       "      <td>1.0</td>\n",
       "      <td>2020-05-29 02:51:16</td>\n",
       "      <td>0.0</td>\n",
       "      <td>0.000</td>\n",
       "      <td>0.750</td>\n",
       "      <td>0.250</td>\n",
       "      <td>0.4588</td>\n",
       "      <td>positive</td>\n",
       "    </tr>\n",
       "    <tr>\n",
       "      <th>19</th>\n",
       "      <td>Anyone found a good 2FA app ?</td>\n",
       "      <td>1.0</td>\n",
       "      <td>2020-05-29 08:59:55</td>\n",
       "      <td>0.0</td>\n",
       "      <td>0.000</td>\n",
       "      <td>0.580</td>\n",
       "      <td>0.420</td>\n",
       "      <td>0.4404</td>\n",
       "      <td>positive</td>\n",
       "    </tr>\n",
       "  </tbody>\n",
       "</table>\n",
       "</div>"
      ],
      "text/plain": [
       "                                                Reply  Upvote  \\\n",
       "0   * * \\ [ MicroG Services\\ ] GMS for all Huawei ...     1.0   \n",
       "1                 Google Chrome -- -- > Firefox Focus    11.0   \n",
       "2   I use yandex disk in Belarus . Unlimited stora...     8.0   \n",
       "3           Waze works without Google Play services ?     5.0   \n",
       "4   6. you and add a webapp of you tube my using y...     6.0   \n",
       "5   Google Drive - pCloud Gmail - move to ProtonMa...     3.0   \n",
       "6   This is one hell of a compromise for consumers...     3.0   \n",
       "7   I got Google mobile services to work on my P40...     4.0   \n",
       "8   Like the Huawei Browser , but there is no sync...     2.0   \n",
       "9   Really just want Google Pay ! Or at the very l...     2.0   \n",
       "10  Does anyone having issues with using Microsoft...     2.0   \n",
       "11  The amazon app store and apkpure are great pla...     2.0   \n",
       "12              Google Drive - > Mega.nz Cloud Server     2.0   \n",
       "13        Youtube vanced for those who want YouTube .     2.0   \n",
       "14  Just wanted to add Microsoft Outlook as a Goog...     2.0   \n",
       "15  Could anyone help me with a good alternative t...     2.0   \n",
       "16  Huawei AppGallery best alternative for google ...     2.0   \n",
       "17  The Russian equivalent to Google – Yandex – ha...     1.0   \n",
       "18  Does OneDrive work ? If so , that would be a g...     1.0   \n",
       "19                      Anyone found a good 2FA app ?     1.0   \n",
       "\n",
       "                   Time  Key    neg    neu    pos  compound compound_result  \n",
       "0   2020-08-13 15:10:37  0.0  0.000  1.000  0.000    0.0000         neutral  \n",
       "1   2020-05-29 01:47:12  0.0  0.000  1.000  0.000    0.0000         neutral  \n",
       "2   2020-06-01 09:08:23  0.0  0.052  0.665  0.283    0.8655        positive  \n",
       "3   2020-05-29 08:39:25  0.0  0.289  0.711  0.000   -0.2584        negative  \n",
       "4   2020-05-29 00:40:56  0.0  0.000  0.893  0.107    0.4588        positive  \n",
       "5   2020-05-29 00:01:50  0.0  0.000  1.000  0.000    0.0000         neutral  \n",
       "6   2020-08-20 10:53:04  0.0  0.117  0.758  0.125    0.1165         neutral  \n",
       "7   2020-06-03 05:38:53  0.0  0.000  1.000  0.000    0.0000         neutral  \n",
       "8   2020-05-29 02:09:17  0.0  0.093  0.884  0.023   -0.6451        negative  \n",
       "9   2020-05-31 11:10:33  0.0  0.056  0.779  0.165    0.7547        positive  \n",
       "10  2020-07-19 09:47:36  0.0  0.000  0.940  0.060    0.2023        positive  \n",
       "11  2020-07-20 06:49:49  0.0  0.000  0.526  0.474    0.9246        positive  \n",
       "12  2020-07-27 21:06:01  0.0  0.000  1.000  0.000    0.0000         neutral  \n",
       "13  2020-08-07 18:36:06  0.0  0.000  0.822  0.178    0.0772         neutral  \n",
       "14  2020-08-23 04:11:04  0.0  0.068  0.830  0.101    0.4033        positive  \n",
       "15  2020-08-23 13:01:35  0.0  0.077  0.790  0.133    0.0849         neutral  \n",
       "16  2020-08-24 09:21:23  0.0  0.000  0.548  0.452    0.7650        positive  \n",
       "17  2020-05-29 02:42:43  0.0  0.038  0.786  0.175    0.9493        positive  \n",
       "18  2020-05-29 02:51:16  0.0  0.000  0.750  0.250    0.4588        positive  \n",
       "19  2020-05-29 08:59:55  0.0  0.000  0.580  0.420    0.4404        positive  "
      ]
     },
     "execution_count": 26,
     "metadata": {},
     "output_type": "execute_result"
    }
   ],
   "source": [
    "prebuilt_package.head(20)"
   ]
  },
  {
   "cell_type": "markdown",
   "metadata": {},
   "source": [
    "From taking a sample of 20 from each method (prebuilt package and trained model), it seems that the trained model tends to have more neutral sentiments than the prebuilt package. The prebuilt package tends to have roughly the same amount of neutral and positive sentiments while there are a few negative sentiments as well.\n",
    "\n",
    "Interestingly enough the only negative sentiment in the trained model (no. 6) was found to be neutral in the prebuilt package. The postive sentiments in the trained model however agreed with the sentiments in the prebuilt package (no. 16 and 18)."
   ]
  },
  {
   "cell_type": "code",
   "execution_count": 28,
   "metadata": {},
   "outputs": [
    {
     "data": {
      "text/plain": [
       "1612"
      ]
     },
     "execution_count": 28,
     "metadata": {},
     "output_type": "execute_result"
    }
   ],
   "source": [
    "prebuilt_package.compound_result.value_counts().positive"
   ]
  },
  {
   "cell_type": "code",
   "execution_count": 30,
   "metadata": {},
   "outputs": [
    {
     "data": {
      "text/plain": [
       "673"
      ]
     },
     "execution_count": 30,
     "metadata": {},
     "output_type": "execute_result"
    }
   ],
   "source": [
    "prebuilt_package.compound_result.value_counts().negative"
   ]
  },
  {
   "cell_type": "code",
   "execution_count": 29,
   "metadata": {},
   "outputs": [
    {
     "data": {
      "text/plain": [
       "1020"
      ]
     },
     "execution_count": 29,
     "metadata": {},
     "output_type": "execute_result"
    }
   ],
   "source": [
    "prebuilt_package.compound_result.value_counts().neutral"
   ]
  },
  {
   "cell_type": "code",
   "execution_count": 32,
   "metadata": {},
   "outputs": [
    {
     "data": {
      "text/plain": [
       "567"
      ]
     },
     "execution_count": 32,
     "metadata": {},
     "output_type": "execute_result"
    }
   ],
   "source": [
    "prediction_data.sentiment.value_counts().positive"
   ]
  },
  {
   "cell_type": "code",
   "execution_count": 35,
   "metadata": {},
   "outputs": [
    {
     "data": {
      "text/plain": [
       "406"
      ]
     },
     "execution_count": 35,
     "metadata": {},
     "output_type": "execute_result"
    }
   ],
   "source": [
    "prediction_data.sentiment.value_counts().negative"
   ]
  },
  {
   "cell_type": "code",
   "execution_count": 33,
   "metadata": {},
   "outputs": [
    {
     "data": {
      "text/plain": [
       "2345"
      ]
     },
     "execution_count": 33,
     "metadata": {},
     "output_type": "execute_result"
    }
   ],
   "source": [
    "prediction_data.sentiment.value_counts().neutral"
   ]
  },
  {
   "cell_type": "markdown",
   "metadata": {},
   "source": [
    "Exact numbers for each sentiment for each method:\n",
    "\n",
    "Prebuilt package:\n",
    "    \n",
    "    Positive: 1612\n",
    "    \n",
    "    Negative: 673\n",
    "    \n",
    "    Neutral: 1020\n",
    "\n",
    "Trained model:\n",
    "    \n",
    "    Positive: 567\n",
    "    \n",
    "    Negative: 406\n",
    "    \n",
    "    Neutral: 2345"
   ]
  },
  {
   "cell_type": "markdown",
   "metadata": {},
   "source": [
    "Overall, the trained model suggests that there is a neutral sentiment about Huawei while the prebuilt package suggests that there is a positive sentiment about Huawei."
   ]
  }
 ],
 "metadata": {
  "kernelspec": {
   "display_name": "venv",
   "language": "python",
   "name": "venv"
  },
  "language_info": {
   "codemirror_mode": {
    "name": "ipython",
    "version": 3
   },
   "file_extension": ".py",
   "mimetype": "text/x-python",
   "name": "python",
   "nbconvert_exporter": "python",
   "pygments_lexer": "ipython3",
   "version": "3.8.5"
  }
 },
 "nbformat": 4,
 "nbformat_minor": 4
}
